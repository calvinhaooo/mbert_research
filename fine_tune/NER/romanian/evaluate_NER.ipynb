{
 "cells": [
  {
   "cell_type": "code",
   "id": "initial_id",
   "metadata": {
    "ExecuteTime": {
     "end_time": "2025-08-08T13:58:35.665762Z",
     "start_time": "2025-08-08T13:58:35.652179Z"
    }
   },
   "source": [
    "import pandas as pd\n",
    "import json\n",
    "import matplotlib.pyplot as plt\n",
    "import seaborn as sns\n",
    "from itertools import combinations\n",
    "from scipy.stats import wilcoxon\n",
    "import numpy as np"
   ],
   "outputs": [],
   "execution_count": 4
  },
  {
   "cell_type": "code",
   "id": "43621f73e8ee0364",
   "metadata": {
    "scrolled": true,
    "ExecuteTime": {
     "end_time": "2025-08-08T13:58:35.810084Z",
     "start_time": "2025-08-08T13:58:35.796685Z"
    }
   },
   "source": [
    "models = [\"mbert\",\"mbert-ro-bio\",\"mbert-nl-clin\", \"mbert-nl-ro\"]\n",
    "tasks = [\"NER\"]\n",
    "num_folds = 10 # number of cross validation folds\n",
    "results = []\n",
    "\n",
    "# append all the cross-validation results to a joint dataframe \n",
    "for model in models:\n",
    "  for task in tasks:\n",
    "    for fold in range(num_folds):\n",
    "        with open(f'{model}/predict_fold_{fold}_results.json') as f:\n",
    "            fold_result = json.load(f)\n",
    "            result = {\n",
    "              'model': model,\n",
    "              'task': task,\n",
    "              'fold': fold,\n",
    "              'f1': round(fold_result['predict_f1'], 3),\n",
    "              'precision': fold_result['predict_precision'],\n",
    "              'recall': fold_result['predict_recall'],\n",
    "              'accuracy': fold_result['predict_accuracy']\n",
    "            }\n",
    "            results.append(result)\n",
    "result_df = pd.DataFrame(results)"
   ],
   "outputs": [],
   "execution_count": 5
  },
  {
   "metadata": {
    "ExecuteTime": {
     "end_time": "2025-08-08T13:58:35.971084Z",
     "start_time": "2025-08-08T13:58:35.940364Z"
    }
   },
   "cell_type": "code",
   "source": [
    "from scipy import stats\n",
    "\n",
    "def compute_ci(series, confidence=0.95):\n",
    "    mean = series.mean()\n",
    "    sem = stats.sem(series)\n",
    "    ci = stats.t.interval(confidence, len(series)-1, loc=mean, scale=sem)\n",
    "    return pd.Series({\"mean\": mean, \"ci_low\": ci[0], \"ci_high\": ci[1]})\n",
    "\n",
    "ci_df = result_df.groupby(\"model\")[\"f1\"].apply(compute_ci).reset_index()\n",
    "ci_df\n"
   ],
   "id": "ffca4874c47009f0",
   "outputs": [
    {
     "data": {
      "text/plain": [
       "            model  level_1        f1\n",
       "0           mbert     mean  0.731800\n",
       "1           mbert   ci_low  0.705013\n",
       "2           mbert  ci_high  0.758587\n",
       "3   mbert-nl-clin     mean  0.717500\n",
       "4   mbert-nl-clin   ci_low  0.694445\n",
       "5   mbert-nl-clin  ci_high  0.740555\n",
       "6     mbert-nl-ro     mean  0.756200\n",
       "7     mbert-nl-ro   ci_low  0.731351\n",
       "8     mbert-nl-ro  ci_high  0.781049\n",
       "9    mbert-ro-bio     mean  0.768000\n",
       "10   mbert-ro-bio   ci_low  0.745331\n",
       "11   mbert-ro-bio  ci_high  0.790669"
      ],
      "text/html": [
       "<div>\n",
       "<style scoped>\n",
       "    .dataframe tbody tr th:only-of-type {\n",
       "        vertical-align: middle;\n",
       "    }\n",
       "\n",
       "    .dataframe tbody tr th {\n",
       "        vertical-align: top;\n",
       "    }\n",
       "\n",
       "    .dataframe thead th {\n",
       "        text-align: right;\n",
       "    }\n",
       "</style>\n",
       "<table border=\"1\" class=\"dataframe\">\n",
       "  <thead>\n",
       "    <tr style=\"text-align: right;\">\n",
       "      <th></th>\n",
       "      <th>model</th>\n",
       "      <th>level_1</th>\n",
       "      <th>f1</th>\n",
       "    </tr>\n",
       "  </thead>\n",
       "  <tbody>\n",
       "    <tr>\n",
       "      <th>0</th>\n",
       "      <td>mbert</td>\n",
       "      <td>mean</td>\n",
       "      <td>0.731800</td>\n",
       "    </tr>\n",
       "    <tr>\n",
       "      <th>1</th>\n",
       "      <td>mbert</td>\n",
       "      <td>ci_low</td>\n",
       "      <td>0.705013</td>\n",
       "    </tr>\n",
       "    <tr>\n",
       "      <th>2</th>\n",
       "      <td>mbert</td>\n",
       "      <td>ci_high</td>\n",
       "      <td>0.758587</td>\n",
       "    </tr>\n",
       "    <tr>\n",
       "      <th>3</th>\n",
       "      <td>mbert-nl-clin</td>\n",
       "      <td>mean</td>\n",
       "      <td>0.717500</td>\n",
       "    </tr>\n",
       "    <tr>\n",
       "      <th>4</th>\n",
       "      <td>mbert-nl-clin</td>\n",
       "      <td>ci_low</td>\n",
       "      <td>0.694445</td>\n",
       "    </tr>\n",
       "    <tr>\n",
       "      <th>5</th>\n",
       "      <td>mbert-nl-clin</td>\n",
       "      <td>ci_high</td>\n",
       "      <td>0.740555</td>\n",
       "    </tr>\n",
       "    <tr>\n",
       "      <th>6</th>\n",
       "      <td>mbert-nl-ro</td>\n",
       "      <td>mean</td>\n",
       "      <td>0.756200</td>\n",
       "    </tr>\n",
       "    <tr>\n",
       "      <th>7</th>\n",
       "      <td>mbert-nl-ro</td>\n",
       "      <td>ci_low</td>\n",
       "      <td>0.731351</td>\n",
       "    </tr>\n",
       "    <tr>\n",
       "      <th>8</th>\n",
       "      <td>mbert-nl-ro</td>\n",
       "      <td>ci_high</td>\n",
       "      <td>0.781049</td>\n",
       "    </tr>\n",
       "    <tr>\n",
       "      <th>9</th>\n",
       "      <td>mbert-ro-bio</td>\n",
       "      <td>mean</td>\n",
       "      <td>0.768000</td>\n",
       "    </tr>\n",
       "    <tr>\n",
       "      <th>10</th>\n",
       "      <td>mbert-ro-bio</td>\n",
       "      <td>ci_low</td>\n",
       "      <td>0.745331</td>\n",
       "    </tr>\n",
       "    <tr>\n",
       "      <th>11</th>\n",
       "      <td>mbert-ro-bio</td>\n",
       "      <td>ci_high</td>\n",
       "      <td>0.790669</td>\n",
       "    </tr>\n",
       "  </tbody>\n",
       "</table>\n",
       "</div>"
      ]
     },
     "execution_count": 6,
     "metadata": {},
     "output_type": "execute_result"
    }
   ],
   "execution_count": 6
  },
  {
   "cell_type": "code",
   "id": "658fb077-9bda-4763-b4f2-cb967a970afc",
   "metadata": {
    "ExecuteTime": {
     "end_time": "2025-08-08T13:58:36.518809Z",
     "start_time": "2025-08-08T13:58:36.134150Z"
    }
   },
   "source": [
    "\n",
    "plt.figure(figsize = (8,10))\n",
    "\n",
    "median_df = result_df.groupby('model', as_index = False)['f1'].median()\n",
    "median_df = median_df.sort_values(\"f1\", ascending = True)\n",
    "\n",
    "model_order = median_df[\"model\"].tolist()\n",
    "result_df[\"model\"] = pd.Categorical(result_df[\"model\"], categories = model_order, ordered = True)\n",
    "median_df[\"model\"] = pd.Categorical(median_df[\"model\"], categories = model_order, ordered = True)\n",
    "\n",
    "sns.stripplot(data = result_df, \n",
    "              x = 'model', \n",
    "              y = 'f1', \n",
    "              hue = 'model',\n",
    "              jitter = True, \n",
    "              alpha = 0.6)\n",
    "\n",
    "sns.pointplot(data = median_df, x = 'model', y = 'f1', color = 'red', markers = 'D', scale = 1.0, join = True, linestyles = '-', errorbar = None)\n",
    "\n",
    "plt.title(\"F1 score per model\", fontsize = 16)\n",
    "plt.xlabel(\"Model\", fontsize = 14)\n",
    "plt.ylabel(\"F1-score\", fontsize = 14)\n",
    "plt.grid(True, linestyle = '--', alpha = 0.3)\n",
    "\n",
    "# plt.savefig(\"F1_per_model.png\", dpi=300)\n",
    "plt.tight_layout()\n",
    "plt.show()"
   ],
   "outputs": [
    {
     "name": "stderr",
     "output_type": "stream",
     "text": [
      "/var/folders/z2/_1pt2jfd5216hfcmv5xkx2gw0000gn/T/ipykernel_43771/110747624.py:17: UserWarning: \n",
      "\n",
      "The `scale` parameter is deprecated and will be removed in v0.15.0. You can now control the size of each plot element using matplotlib `Line2D` parameters (e.g., `linewidth`, `markersize`, etc.).\n",
      "\n",
      "  sns.pointplot(data = median_df, x = 'model', y = 'f1', color = 'red', markers = 'D', scale = 1.0, join = True, linestyles = '-', errorbar = None)\n",
      "/var/folders/z2/_1pt2jfd5216hfcmv5xkx2gw0000gn/T/ipykernel_43771/110747624.py:17: UserWarning: \n",
      "\n",
      "The `join` parameter is deprecated and will be removed in v0.15.0.\n",
      "\n",
      "  sns.pointplot(data = median_df, x = 'model', y = 'f1', color = 'red', markers = 'D', scale = 1.0, join = True, linestyles = '-', errorbar = None)\n"
     ]
    },
    {
     "data": {
      "text/plain": [
       "<Figure size 800x1000 with 1 Axes>"
      ],
      "image/png": "[encoded data removed]"
     },
     "metadata": {},
     "output_type": "display_data"
    }
   ],
   "execution_count": 7
  },
  {
   "cell_type": "code",
   "id": "2cb6b3705251b64e",
   "metadata": {
    "ExecuteTime": {
     "end_time": "2025-08-08T13:58:37.069208Z",
     "start_time": "2025-08-08T13:58:36.611422Z"
    }
   },
   "source": [
    "result_df.groupby(['model'], observed = True).agg({'f1':'median',})"
   ],
   "outputs": [
    {
     "data": {
      "text/plain": [
       "                   f1\n",
       "model                \n",
       "mbert-nl-clin  0.7180\n",
       "mbert          0.7310\n",
       "mbert-nl-ro    0.7565\n",
       "mbert-ro-bio   0.7640"
      ],
      "text/html": [
       "<div>\n",
       "<style scoped>\n",
       "    .dataframe tbody tr th:only-of-type {\n",
       "        vertical-align: middle;\n",
       "    }\n",
       "\n",
       "    .dataframe tbody tr th {\n",
       "        vertical-align: top;\n",
       "    }\n",
       "\n",
       "    .dataframe thead th {\n",
       "        text-align: right;\n",
       "    }\n",
       "</style>\n",
       "<table border=\"1\" class=\"dataframe\">\n",
       "  <thead>\n",
       "    <tr style=\"text-align: right;\">\n",
       "      <th></th>\n",
       "      <th>f1</th>\n",
       "    </tr>\n",
       "    <tr>\n",
       "      <th>model</th>\n",
       "      <th></th>\n",
       "    </tr>\n",
       "  </thead>\n",
       "  <tbody>\n",
       "    <tr>\n",
       "      <th>mbert-nl-clin</th>\n",
       "      <td>0.7180</td>\n",
       "    </tr>\n",
       "    <tr>\n",
       "      <th>mbert</th>\n",
       "      <td>0.7310</td>\n",
       "    </tr>\n",
       "    <tr>\n",
       "      <th>mbert-nl-ro</th>\n",
       "      <td>0.7565</td>\n",
       "    </tr>\n",
       "    <tr>\n",
       "      <th>mbert-ro-bio</th>\n",
       "      <td>0.7640</td>\n",
       "    </tr>\n",
       "  </tbody>\n",
       "</table>\n",
       "</div>"
      ]
     },
     "execution_count": 8,
     "metadata": {},
     "output_type": "execute_result"
    }
   ],
   "execution_count": 8
  },
  {
   "cell_type": "code",
   "id": "c102c1c5-cbe7-46c6-ab4a-ff39ba071e64",
   "metadata": {
    "ExecuteTime": {
     "end_time": "2025-08-08T13:58:37.113913Z",
     "start_time": "2025-08-08T13:58:37.105952Z"
    }
   },
   "source": [
    "result_df.groupby(['model'], observed = True).agg({'f1':'mean'})"
   ],
   "outputs": [
    {
     "data": {
      "text/plain": [
       "                   f1\n",
       "model                \n",
       "mbert-nl-clin  0.7175\n",
       "mbert          0.7318\n",
       "mbert-nl-ro    0.7562\n",
       "mbert-ro-bio   0.7680"
      ],
      "text/html": [
       "<div>\n",
       "<style scoped>\n",
       "    .dataframe tbody tr th:only-of-type {\n",
       "        vertical-align: middle;\n",
       "    }\n",
       "\n",
       "    .dataframe tbody tr th {\n",
       "        vertical-align: top;\n",
       "    }\n",
       "\n",
       "    .dataframe thead th {\n",
       "        text-align: right;\n",
       "    }\n",
       "</style>\n",
       "<table border=\"1\" class=\"dataframe\">\n",
       "  <thead>\n",
       "    <tr style=\"text-align: right;\">\n",
       "      <th></th>\n",
       "      <th>f1</th>\n",
       "    </tr>\n",
       "    <tr>\n",
       "      <th>model</th>\n",
       "      <th></th>\n",
       "    </tr>\n",
       "  </thead>\n",
       "  <tbody>\n",
       "    <tr>\n",
       "      <th>mbert-nl-clin</th>\n",
       "      <td>0.7175</td>\n",
       "    </tr>\n",
       "    <tr>\n",
       "      <th>mbert</th>\n",
       "      <td>0.7318</td>\n",
       "    </tr>\n",
       "    <tr>\n",
       "      <th>mbert-nl-ro</th>\n",
       "      <td>0.7562</td>\n",
       "    </tr>\n",
       "    <tr>\n",
       "      <th>mbert-ro-bio</th>\n",
       "      <td>0.7680</td>\n",
       "    </tr>\n",
       "  </tbody>\n",
       "</table>\n",
       "</div>"
      ]
     },
     "execution_count": 9,
     "metadata": {},
     "output_type": "execute_result"
    }
   ],
   "execution_count": 9
  },
  {
   "cell_type": "code",
   "id": "fd9f40ea-d870-4e79-9df7-f303ea0d334a",
   "metadata": {
    "ExecuteTime": {
     "end_time": "2025-08-08T13:58:55.202995Z",
     "start_time": "2025-08-08T13:58:55.198627Z"
    }
   },
   "source": [
    "def wilcoxon_precision_test(result_df, model_a, model_b, alternative='two-sided'):\n",
    "    print(f\"Wilcoxon Signed-Rank Test between {model_a} and {model_b} (f1):\")\n",
    "\n",
    "    pivoted = result_df.pivot(index='fold', columns='model', values='f1')\n",
    "    \n",
    "    if model_a not in pivoted.columns or model_b not in pivoted.columns:\n",
    "        print(\"One or both models not found in result_df.\")\n",
    "        return\n",
    "\n",
    "    precision_a = pivoted[model_a].values\n",
    "    precision_b = pivoted[model_b].values\n",
    "\n",
    "    stat, p_value = wilcoxon(precision_a, precision_b, zero_method='pratt', alternative=alternative)\n",
    "    print(f\"Wilcoxon test statistic = {stat:.4f}, p-value = {p_value:.4f}\")\n"
   ],
   "outputs": [],
   "execution_count": 13
  },
  {
   "cell_type": "code",
   "id": "d9305da8-0c12-4332-b1ff-e630bee75738",
   "metadata": {
    "ExecuteTime": {
     "end_time": "2025-08-08T13:58:55.486262Z",
     "start_time": "2025-08-08T13:58:55.466354Z"
    }
   },
   "source": [
    "model_names = result_df[\"model\"].unique()\n",
    "models = result_df[\"model\"].unique()\n",
    "model_list = models.to_list()\n",
    "\n",
    "p_matrix = pd.DataFrame(np.ones((len(model_list), len(model_list))), index = model_list, columns = model_list)\n",
    "\n",
    "for m1, m2 in combinations(model_names, 2):\n",
    "    f1_1 = result_df[result_df[\"model\"] == m1].sort_values(\"fold\")[\"f1\"].values\n",
    "    f1_2 = result_df[result_df[\"model\"] == m2].sort_values(\"fold\")[\"f1\"].values\n",
    "\n",
    "    stat, p = wilcoxon(f1_1, f1_2)\n",
    "    print(f\"{m1} vs {m2} → p-value = {p:.4f}\")\n",
    "\n",
    "    p_matrix.loc[m1, m2] = p\n",
    "    p_matrix.loc[m2, m1] = p\n",
    "\n",
    "p_matrix = p_matrix.round(4)\n",
    "display(p_matrix)"
   ],
   "outputs": [
    {
     "name": "stdout",
     "output_type": "stream",
     "text": [
      "mbert vs mbert-ro-bio → p-value = 0.0039\n",
      "mbert vs mbert-nl-clin → p-value = 0.3223\n",
      "mbert vs mbert-nl-ro → p-value = 0.0195\n",
      "mbert-ro-bio vs mbert-nl-clin → p-value = 0.0039\n",
      "mbert-ro-bio vs mbert-nl-ro → p-value = 0.3750\n",
      "mbert-nl-clin vs mbert-nl-ro → p-value = 0.0020\n"
     ]
    },
    {
     "name": "stderr",
     "output_type": "stream",
     "text": [
      "/var/folders/z2/_1pt2jfd5216hfcmv5xkx2gw0000gn/T/ipykernel_43771/1965972278.py:3: FutureWarning: Categorical.to_list is deprecated and will be removed in a future version. Use obj.tolist() instead\n",
      "  model_list = models.to_list()\n"
     ]
    },
    {
     "data": {
      "text/plain": [
       "                mbert  mbert-ro-bio  mbert-nl-clin  mbert-nl-ro\n",
       "mbert          1.0000        0.0039         0.3223       0.0195\n",
       "mbert-ro-bio   0.0039        1.0000         0.0039       0.3750\n",
       "mbert-nl-clin  0.3223        0.0039         1.0000       0.0020\n",
       "mbert-nl-ro    0.0195        0.3750         0.0020       1.0000"
      ],
      "text/html": [
       "<div>\n",
       "<style scoped>\n",
       "    .dataframe tbody tr th:only-of-type {\n",
       "        vertical-align: middle;\n",
       "    }\n",
       "\n",
       "    .dataframe tbody tr th {\n",
       "        vertical-align: top;\n",
       "    }\n",
       "\n",
       "    .dataframe thead th {\n",
       "        text-align: right;\n",
       "    }\n",
       "</style>\n",
       "<table border=\"1\" class=\"dataframe\">\n",
       "  <thead>\n",
       "    <tr style=\"text-align: right;\">\n",
       "      <th></th>\n",
       "      <th>mbert</th>\n",
       "      <th>mbert-ro-bio</th>\n",
       "      <th>mbert-nl-clin</th>\n",
       "      <th>mbert-nl-ro</th>\n",
       "    </tr>\n",
       "  </thead>\n",
       "  <tbody>\n",
       "    <tr>\n",
       "      <th>mbert</th>\n",
       "      <td>1.0000</td>\n",
       "      <td>0.0039</td>\n",
       "      <td>0.3223</td>\n",
       "      <td>0.0195</td>\n",
       "    </tr>\n",
       "    <tr>\n",
       "      <th>mbert-ro-bio</th>\n",
       "      <td>0.0039</td>\n",
       "      <td>1.0000</td>\n",
       "      <td>0.0039</td>\n",
       "      <td>0.3750</td>\n",
       "    </tr>\n",
       "    <tr>\n",
       "      <th>mbert-nl-clin</th>\n",
       "      <td>0.3223</td>\n",
       "      <td>0.0039</td>\n",
       "      <td>1.0000</td>\n",
       "      <td>0.0020</td>\n",
       "    </tr>\n",
       "    <tr>\n",
       "      <th>mbert-nl-ro</th>\n",
       "      <td>0.0195</td>\n",
       "      <td>0.3750</td>\n",
       "      <td>0.0020</td>\n",
       "      <td>1.0000</td>\n",
       "    </tr>\n",
       "  </tbody>\n",
       "</table>\n",
       "</div>"
      ]
     },
     "metadata": {},
     "output_type": "display_data"
    }
   ],
   "execution_count": 14
  },
  {
   "cell_type": "code",
   "id": "f088ba44-21ec-469a-94a2-5d9154cdabee",
   "metadata": {
    "ExecuteTime": {
     "end_time": "2025-08-08T13:58:56.020333Z",
     "start_time": "2025-08-08T13:58:55.887640Z"
    }
   },
   "source": [
    "plt.figure(figsize = (6,5))\n",
    "\n",
    "sns.heatmap(\n",
    "    p_matrix,\n",
    "    annot = True, fmt = \".4f\", cmap = \"coolwarm_r\", cbar_kws = {'label': 'p-value'},\n",
    "    linewidths = 0.5, linecolor = \"grey\",\n",
    "    mask = np.triu(np.ones_like(p_matrix, dtype = bool))\n",
    ")\n",
    "\n",
    "plt.title(\"wilcoxon signed rank test\")\n",
    "\n",
    "# plt.savefig(\"p-value.png\", dpi=300)\n",
    "plt.tight_layout()\n",
    "plt.show()"
   ],
   "outputs": [
    {
     "data": {
      "text/plain": [
       "<Figure size 600x500 with 2 Axes>"
      ],
      "image/png": "[encoded data removed]"
     },
     "metadata": {},
     "output_type": "display_data"
    }
   ],
   "execution_count": 15
  },
  {
   "cell_type": "code",
   "execution_count": null,
   "id": "6636edcc-815e-416e-a978-a1c7a5840b79",
   "metadata": {},
   "outputs": [],
   "source": []
  }
 ],
 "metadata": {
  "kernelspec": {
   "display_name": "Python 3 (ipykernel)",
   "language": "python",
   "name": "python3"
  },
  "language_info": {
   "codemirror_mode": {
    "name": "ipython",
    "version": 3
   },
   "file_extension": ".py",
   "mimetype": "text/x-python",
   "name": "python",
   "nbconvert_exporter": "python",
   "pygments_lexer": "ipython3",
   "version": "3.10.12"
  }
 },
 "nbformat": 4,
 "nbformat_minor": 5
}
